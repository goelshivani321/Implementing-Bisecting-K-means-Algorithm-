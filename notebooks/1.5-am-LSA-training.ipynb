{
 "cells": [
  {
   "cell_type": "code",
   "execution_count": 63,
   "metadata": {},
   "outputs": [
    {
     "name": "stdout",
     "output_type": "stream",
     "text": [
      "The autoreload extension is already loaded. To reload it, use:\n",
      "  %reload_ext autoreload\n"
     ]
    }
   ],
   "source": [
    "# hack to import local classes\n",
    "import sys\n",
    "sys.path.append('..')\n",
    "\n",
    "%load_ext autoreload\n",
    "%autoreload 2\n",
    "\n",
    "from src.models import train_model\n",
    "from src.data import read_transform\n",
    "from sklearn.metrics import calinski_harabaz_score\n",
    "\n",
    "import numpy as np\n",
    "import pandas as pd\n",
    "from scipy.sparse import csr_matrix, hstack, save_npz, load_npz\n",
    "\n",
    "import seaborn as sns\n",
    "import matplotlib.pyplot as plt\n",
    "%matplotlib inline\n",
    "sns.set(style=\"whitegrid\")"
   ]
  },
  {
   "cell_type": "code",
   "execution_count": 64,
   "metadata": {},
   "outputs": [],
   "source": [
    "#Read CSR matrix from the input file\n",
    "csrMatrix = read_transform.csr_read('../data/raw/train.dat')\n",
    "\n",
    "#Scale the CSR matrix by idf (Inverse Document Frequency)\n",
    "csrIDF = read_transform.csr_idf(csrMatrix, copy=True)\n",
    "\n",
    "#Normalize the rows of a CSR matrix by their L-2 norm.\n",
    "csrL2Normalized = read_transform.csr_l2normalize(csrIDF, copy=True)\n",
    "\n",
    "#Obtain a dense ndarray representation of the CSR matrix.\n",
    "denseMatrix = csrL2Normalized.toarray()"
   ]
  },
  {
   "cell_type": "code",
   "execution_count": 45,
   "metadata": {},
   "outputs": [
    {
     "data": {
      "text/plain": [
       "(8580, 126355)"
      ]
     },
     "execution_count": 45,
     "metadata": {},
     "output_type": "execute_result"
    }
   ],
   "source": [
    "csrL2Normalized.shape"
   ]
  },
  {
   "cell_type": "code",
   "execution_count": 9,
   "metadata": {},
   "outputs": [
    {
     "data": {
      "text/html": [
       "<div>\n",
       "<style scoped>\n",
       "    .dataframe tbody tr th:only-of-type {\n",
       "        vertical-align: middle;\n",
       "    }\n",
       "\n",
       "    .dataframe tbody tr th {\n",
       "        vertical-align: top;\n",
       "    }\n",
       "\n",
       "    .dataframe thead th {\n",
       "        text-align: right;\n",
       "    }\n",
       "</style>\n",
       "<table border=\"1\" class=\"dataframe\">\n",
       "  <thead>\n",
       "    <tr style=\"text-align: right;\">\n",
       "      <th></th>\n",
       "      <th>0</th>\n",
       "      <th>1</th>\n",
       "      <th>2</th>\n",
       "      <th>3</th>\n",
       "      <th>4</th>\n",
       "      <th>5</th>\n",
       "      <th>6</th>\n",
       "      <th>7</th>\n",
       "      <th>8</th>\n",
       "      <th>9</th>\n",
       "      <th>...</th>\n",
       "      <th>126345</th>\n",
       "      <th>126346</th>\n",
       "      <th>126347</th>\n",
       "      <th>126348</th>\n",
       "      <th>126349</th>\n",
       "      <th>126350</th>\n",
       "      <th>126351</th>\n",
       "      <th>126352</th>\n",
       "      <th>126353</th>\n",
       "      <th>126354</th>\n",
       "    </tr>\n",
       "  </thead>\n",
       "  <tbody>\n",
       "    <tr>\n",
       "      <th>0</th>\n",
       "      <td>0.0</td>\n",
       "      <td>0.0</td>\n",
       "      <td>0.00000</td>\n",
       "      <td>0.110212</td>\n",
       "      <td>0.000000</td>\n",
       "      <td>0.003722</td>\n",
       "      <td>0.0</td>\n",
       "      <td>0.0</td>\n",
       "      <td>0.000000</td>\n",
       "      <td>0.0</td>\n",
       "      <td>...</td>\n",
       "      <td>0.0</td>\n",
       "      <td>0.0</td>\n",
       "      <td>0.0</td>\n",
       "      <td>0.0</td>\n",
       "      <td>0.0</td>\n",
       "      <td>0.0</td>\n",
       "      <td>0.0</td>\n",
       "      <td>0.0</td>\n",
       "      <td>0.0</td>\n",
       "      <td>0.0</td>\n",
       "    </tr>\n",
       "    <tr>\n",
       "      <th>1</th>\n",
       "      <td>0.0</td>\n",
       "      <td>0.0</td>\n",
       "      <td>0.00000</td>\n",
       "      <td>0.000000</td>\n",
       "      <td>0.034005</td>\n",
       "      <td>0.008336</td>\n",
       "      <td>0.0</td>\n",
       "      <td>0.0</td>\n",
       "      <td>0.057396</td>\n",
       "      <td>0.0</td>\n",
       "      <td>...</td>\n",
       "      <td>0.0</td>\n",
       "      <td>0.0</td>\n",
       "      <td>0.0</td>\n",
       "      <td>0.0</td>\n",
       "      <td>0.0</td>\n",
       "      <td>0.0</td>\n",
       "      <td>0.0</td>\n",
       "      <td>0.0</td>\n",
       "      <td>0.0</td>\n",
       "      <td>0.0</td>\n",
       "    </tr>\n",
       "    <tr>\n",
       "      <th>2</th>\n",
       "      <td>0.0</td>\n",
       "      <td>0.0</td>\n",
       "      <td>0.00000</td>\n",
       "      <td>0.000000</td>\n",
       "      <td>0.000000</td>\n",
       "      <td>0.007764</td>\n",
       "      <td>0.0</td>\n",
       "      <td>0.0</td>\n",
       "      <td>0.004277</td>\n",
       "      <td>0.0</td>\n",
       "      <td>...</td>\n",
       "      <td>0.0</td>\n",
       "      <td>0.0</td>\n",
       "      <td>0.0</td>\n",
       "      <td>0.0</td>\n",
       "      <td>0.0</td>\n",
       "      <td>0.0</td>\n",
       "      <td>0.0</td>\n",
       "      <td>0.0</td>\n",
       "      <td>0.0</td>\n",
       "      <td>0.0</td>\n",
       "    </tr>\n",
       "    <tr>\n",
       "      <th>3</th>\n",
       "      <td>0.0</td>\n",
       "      <td>0.0</td>\n",
       "      <td>0.00000</td>\n",
       "      <td>0.000000</td>\n",
       "      <td>0.000000</td>\n",
       "      <td>0.004907</td>\n",
       "      <td>0.0</td>\n",
       "      <td>0.0</td>\n",
       "      <td>0.067576</td>\n",
       "      <td>0.0</td>\n",
       "      <td>...</td>\n",
       "      <td>0.0</td>\n",
       "      <td>0.0</td>\n",
       "      <td>0.0</td>\n",
       "      <td>0.0</td>\n",
       "      <td>0.0</td>\n",
       "      <td>0.0</td>\n",
       "      <td>0.0</td>\n",
       "      <td>0.0</td>\n",
       "      <td>0.0</td>\n",
       "      <td>0.0</td>\n",
       "    </tr>\n",
       "    <tr>\n",
       "      <th>4</th>\n",
       "      <td>0.0</td>\n",
       "      <td>0.0</td>\n",
       "      <td>0.02532</td>\n",
       "      <td>0.030651</td>\n",
       "      <td>0.050668</td>\n",
       "      <td>0.006210</td>\n",
       "      <td>0.0</td>\n",
       "      <td>0.0</td>\n",
       "      <td>0.034208</td>\n",
       "      <td>0.0</td>\n",
       "      <td>...</td>\n",
       "      <td>0.0</td>\n",
       "      <td>0.0</td>\n",
       "      <td>0.0</td>\n",
       "      <td>0.0</td>\n",
       "      <td>0.0</td>\n",
       "      <td>0.0</td>\n",
       "      <td>0.0</td>\n",
       "      <td>0.0</td>\n",
       "      <td>0.0</td>\n",
       "      <td>0.0</td>\n",
       "    </tr>\n",
       "  </tbody>\n",
       "</table>\n",
       "<p>5 rows × 126355 columns</p>\n",
       "</div>"
      ],
      "text/plain": [
       "   0       1        2         3         4         5       6       7       \\\n",
       "0     0.0     0.0  0.00000  0.110212  0.000000  0.003722     0.0     0.0   \n",
       "1     0.0     0.0  0.00000  0.000000  0.034005  0.008336     0.0     0.0   \n",
       "2     0.0     0.0  0.00000  0.000000  0.000000  0.007764     0.0     0.0   \n",
       "3     0.0     0.0  0.00000  0.000000  0.000000  0.004907     0.0     0.0   \n",
       "4     0.0     0.0  0.02532  0.030651  0.050668  0.006210     0.0     0.0   \n",
       "\n",
       "     8       9        ...    126345  126346  126347  126348  126349  126350  \\\n",
       "0  0.000000     0.0   ...       0.0     0.0     0.0     0.0     0.0     0.0   \n",
       "1  0.057396     0.0   ...       0.0     0.0     0.0     0.0     0.0     0.0   \n",
       "2  0.004277     0.0   ...       0.0     0.0     0.0     0.0     0.0     0.0   \n",
       "3  0.067576     0.0   ...       0.0     0.0     0.0     0.0     0.0     0.0   \n",
       "4  0.034208     0.0   ...       0.0     0.0     0.0     0.0     0.0     0.0   \n",
       "\n",
       "   126351  126352  126353  126354  \n",
       "0     0.0     0.0     0.0     0.0  \n",
       "1     0.0     0.0     0.0     0.0  \n",
       "2     0.0     0.0     0.0     0.0  \n",
       "3     0.0     0.0     0.0     0.0  \n",
       "4     0.0     0.0     0.0     0.0  \n",
       "\n",
       "[5 rows x 126355 columns]"
      ]
     },
     "execution_count": 9,
     "metadata": {},
     "output_type": "execute_result"
    }
   ],
   "source": [
    "pd.DataFrame(denseMatrix).head()"
   ]
  },
  {
   "cell_type": "code",
   "execution_count": 6,
   "metadata": {},
   "outputs": [],
   "source": [
    "labels = train_model.bisecting_kmeans(denseMatrix, 2, 10)"
   ]
  },
  {
   "cell_type": "code",
   "execution_count": 7,
   "metadata": {},
   "outputs": [
    {
     "data": {
      "text/plain": [
       "1    4752\n",
       "2    3828\n",
       "Name: 0, dtype: int64"
      ]
     },
     "execution_count": 7,
     "metadata": {},
     "output_type": "execute_result"
    }
   ],
   "source": [
    "pd.DataFrame(labels)[0].value_counts()"
   ]
  },
  {
   "cell_type": "code",
   "execution_count": 8,
   "metadata": {},
   "outputs": [
    {
     "data": {
      "text/plain": [
       "76.27600389036283"
      ]
     },
     "execution_count": 8,
     "metadata": {},
     "output_type": "execute_result"
    }
   ],
   "source": [
    "calinski_harabaz_score(denseMatrix, labels)"
   ]
  },
  {
   "cell_type": "markdown",
   "metadata": {},
   "source": [
    "# LSA - Latent Semantic Analysis"
   ]
  },
  {
   "cell_type": "code",
   "execution_count": 10,
   "metadata": {},
   "outputs": [],
   "source": [
    "from sklearn.decomposition import TruncatedSVD"
   ]
  },
  {
   "cell_type": "code",
   "execution_count": 73,
   "metadata": {},
   "outputs": [],
   "source": [
    "svd = TruncatedSVD(n_components=5000, n_iter=10, random_state=10, algorithm='arpack')"
   ]
  },
  {
   "cell_type": "code",
   "execution_count": 74,
   "metadata": {},
   "outputs": [],
   "source": [
    "csrL2Normalized_svd = svd.fit_transform(csrL2Normalized)"
   ]
  },
  {
   "cell_type": "code",
   "execution_count": 75,
   "metadata": {},
   "outputs": [
    {
     "data": {
      "text/plain": [
       "96.12863835303189"
      ]
     },
     "execution_count": 75,
     "metadata": {},
     "output_type": "execute_result"
    }
   ],
   "source": [
    "svd.explained_variance_ratio_.sum() * 100"
   ]
  },
  {
   "cell_type": "code",
   "execution_count": 76,
   "metadata": {},
   "outputs": [
    {
     "data": {
      "text/html": [
       "<div>\n",
       "<style scoped>\n",
       "    .dataframe tbody tr th:only-of-type {\n",
       "        vertical-align: middle;\n",
       "    }\n",
       "\n",
       "    .dataframe tbody tr th {\n",
       "        vertical-align: top;\n",
       "    }\n",
       "\n",
       "    .dataframe thead th {\n",
       "        text-align: right;\n",
       "    }\n",
       "</style>\n",
       "<table border=\"1\" class=\"dataframe\">\n",
       "  <thead>\n",
       "    <tr style=\"text-align: right;\">\n",
       "      <th></th>\n",
       "      <th>0</th>\n",
       "      <th>1</th>\n",
       "      <th>2</th>\n",
       "      <th>3</th>\n",
       "      <th>4</th>\n",
       "      <th>5</th>\n",
       "      <th>6</th>\n",
       "      <th>7</th>\n",
       "      <th>8</th>\n",
       "      <th>9</th>\n",
       "      <th>...</th>\n",
       "      <th>4990</th>\n",
       "      <th>4991</th>\n",
       "      <th>4992</th>\n",
       "      <th>4993</th>\n",
       "      <th>4994</th>\n",
       "      <th>4995</th>\n",
       "      <th>4996</th>\n",
       "      <th>4997</th>\n",
       "      <th>4998</th>\n",
       "      <th>4999</th>\n",
       "    </tr>\n",
       "  </thead>\n",
       "  <tbody>\n",
       "    <tr>\n",
       "      <th>0</th>\n",
       "      <td>0.133729</td>\n",
       "      <td>-0.031597</td>\n",
       "      <td>0.019048</td>\n",
       "      <td>0.001199</td>\n",
       "      <td>-0.007876</td>\n",
       "      <td>0.047543</td>\n",
       "      <td>-0.096970</td>\n",
       "      <td>-0.059190</td>\n",
       "      <td>-0.034899</td>\n",
       "      <td>-0.037521</td>\n",
       "      <td>...</td>\n",
       "      <td>-0.009368</td>\n",
       "      <td>-0.001655</td>\n",
       "      <td>0.001102</td>\n",
       "      <td>-0.002816</td>\n",
       "      <td>0.003566</td>\n",
       "      <td>-0.004090</td>\n",
       "      <td>0.003332</td>\n",
       "      <td>-0.004951</td>\n",
       "      <td>-0.003348</td>\n",
       "      <td>0.008441</td>\n",
       "    </tr>\n",
       "    <tr>\n",
       "      <th>1</th>\n",
       "      <td>0.156670</td>\n",
       "      <td>0.062818</td>\n",
       "      <td>0.018526</td>\n",
       "      <td>0.013523</td>\n",
       "      <td>0.007401</td>\n",
       "      <td>0.020389</td>\n",
       "      <td>-0.080919</td>\n",
       "      <td>0.015974</td>\n",
       "      <td>-0.074190</td>\n",
       "      <td>0.055908</td>\n",
       "      <td>...</td>\n",
       "      <td>0.003735</td>\n",
       "      <td>-0.005269</td>\n",
       "      <td>0.006351</td>\n",
       "      <td>0.007306</td>\n",
       "      <td>-0.001349</td>\n",
       "      <td>-0.006252</td>\n",
       "      <td>-0.003279</td>\n",
       "      <td>0.005156</td>\n",
       "      <td>0.002852</td>\n",
       "      <td>-0.006525</td>\n",
       "    </tr>\n",
       "    <tr>\n",
       "      <th>2</th>\n",
       "      <td>0.074912</td>\n",
       "      <td>-0.012769</td>\n",
       "      <td>-0.001249</td>\n",
       "      <td>0.005575</td>\n",
       "      <td>0.001644</td>\n",
       "      <td>0.010845</td>\n",
       "      <td>-0.041064</td>\n",
       "      <td>-0.019120</td>\n",
       "      <td>-0.012199</td>\n",
       "      <td>0.009542</td>\n",
       "      <td>...</td>\n",
       "      <td>-0.000950</td>\n",
       "      <td>-0.000795</td>\n",
       "      <td>0.001003</td>\n",
       "      <td>0.000142</td>\n",
       "      <td>0.001128</td>\n",
       "      <td>0.000106</td>\n",
       "      <td>-0.000013</td>\n",
       "      <td>0.001234</td>\n",
       "      <td>-0.001573</td>\n",
       "      <td>0.000696</td>\n",
       "    </tr>\n",
       "    <tr>\n",
       "      <th>3</th>\n",
       "      <td>0.180085</td>\n",
       "      <td>-0.052568</td>\n",
       "      <td>0.008716</td>\n",
       "      <td>0.010358</td>\n",
       "      <td>-0.006335</td>\n",
       "      <td>0.063469</td>\n",
       "      <td>-0.103017</td>\n",
       "      <td>-0.052676</td>\n",
       "      <td>-0.024180</td>\n",
       "      <td>-0.041249</td>\n",
       "      <td>...</td>\n",
       "      <td>0.002952</td>\n",
       "      <td>-0.014552</td>\n",
       "      <td>-0.001137</td>\n",
       "      <td>0.004211</td>\n",
       "      <td>0.006335</td>\n",
       "      <td>0.000585</td>\n",
       "      <td>-0.006573</td>\n",
       "      <td>-0.004551</td>\n",
       "      <td>-0.005729</td>\n",
       "      <td>0.003687</td>\n",
       "    </tr>\n",
       "    <tr>\n",
       "      <th>4</th>\n",
       "      <td>0.154468</td>\n",
       "      <td>-0.007684</td>\n",
       "      <td>0.009544</td>\n",
       "      <td>0.006078</td>\n",
       "      <td>-0.006014</td>\n",
       "      <td>0.040344</td>\n",
       "      <td>-0.092864</td>\n",
       "      <td>-0.058367</td>\n",
       "      <td>-0.027375</td>\n",
       "      <td>-0.025320</td>\n",
       "      <td>...</td>\n",
       "      <td>-0.004343</td>\n",
       "      <td>0.005205</td>\n",
       "      <td>0.001742</td>\n",
       "      <td>0.006523</td>\n",
       "      <td>-0.010088</td>\n",
       "      <td>0.000477</td>\n",
       "      <td>0.001375</td>\n",
       "      <td>0.006387</td>\n",
       "      <td>-0.002781</td>\n",
       "      <td>-0.011714</td>\n",
       "    </tr>\n",
       "  </tbody>\n",
       "</table>\n",
       "<p>5 rows × 5000 columns</p>\n",
       "</div>"
      ],
      "text/plain": [
       "       0         1         2         3         4         5         6     \\\n",
       "0  0.133729 -0.031597  0.019048  0.001199 -0.007876  0.047543 -0.096970   \n",
       "1  0.156670  0.062818  0.018526  0.013523  0.007401  0.020389 -0.080919   \n",
       "2  0.074912 -0.012769 -0.001249  0.005575  0.001644  0.010845 -0.041064   \n",
       "3  0.180085 -0.052568  0.008716  0.010358 -0.006335  0.063469 -0.103017   \n",
       "4  0.154468 -0.007684  0.009544  0.006078 -0.006014  0.040344 -0.092864   \n",
       "\n",
       "       7         8         9       ...         4990      4991      4992  \\\n",
       "0 -0.059190 -0.034899 -0.037521    ...    -0.009368 -0.001655  0.001102   \n",
       "1  0.015974 -0.074190  0.055908    ...     0.003735 -0.005269  0.006351   \n",
       "2 -0.019120 -0.012199  0.009542    ...    -0.000950 -0.000795  0.001003   \n",
       "3 -0.052676 -0.024180 -0.041249    ...     0.002952 -0.014552 -0.001137   \n",
       "4 -0.058367 -0.027375 -0.025320    ...    -0.004343  0.005205  0.001742   \n",
       "\n",
       "       4993      4994      4995      4996      4997      4998      4999  \n",
       "0 -0.002816  0.003566 -0.004090  0.003332 -0.004951 -0.003348  0.008441  \n",
       "1  0.007306 -0.001349 -0.006252 -0.003279  0.005156  0.002852 -0.006525  \n",
       "2  0.000142  0.001128  0.000106 -0.000013  0.001234 -0.001573  0.000696  \n",
       "3  0.004211  0.006335  0.000585 -0.006573 -0.004551 -0.005729  0.003687  \n",
       "4  0.006523 -0.010088  0.000477  0.001375  0.006387 -0.002781 -0.011714  \n",
       "\n",
       "[5 rows x 5000 columns]"
      ]
     },
     "execution_count": 76,
     "metadata": {},
     "output_type": "execute_result"
    }
   ],
   "source": [
    "pd.DataFrame(csrL2Normalized_svd).head()"
   ]
  },
  {
   "cell_type": "code",
   "execution_count": 77,
   "metadata": {},
   "outputs": [],
   "source": [
    "csrL2Normalized_svd = csr_matrix(csrL2Normalized_svd)"
   ]
  },
  {
   "cell_type": "code",
   "execution_count": 78,
   "metadata": {},
   "outputs": [
    {
     "data": {
      "text/plain": [
       "<8580x5000 sparse matrix of type '<class 'numpy.float64'>'\n",
       "\twith 42900000 stored elements in Compressed Sparse Row format>"
      ]
     },
     "execution_count": 78,
     "metadata": {},
     "output_type": "execute_result"
    }
   ],
   "source": [
    "csrL2Normalized_svd"
   ]
  },
  {
   "cell_type": "code",
   "execution_count": 79,
   "metadata": {},
   "outputs": [],
   "source": [
    "csrL2Normalized_svd = read_transform.csr_l2normalize(csrL2Normalized_svd, copy=True)"
   ]
  },
  {
   "cell_type": "code",
   "execution_count": 80,
   "metadata": {},
   "outputs": [
    {
     "data": {
      "text/html": [
       "<div>\n",
       "<style scoped>\n",
       "    .dataframe tbody tr th:only-of-type {\n",
       "        vertical-align: middle;\n",
       "    }\n",
       "\n",
       "    .dataframe tbody tr th {\n",
       "        vertical-align: top;\n",
       "    }\n",
       "\n",
       "    .dataframe thead th {\n",
       "        text-align: right;\n",
       "    }\n",
       "</style>\n",
       "<table border=\"1\" class=\"dataframe\">\n",
       "  <thead>\n",
       "    <tr style=\"text-align: right;\">\n",
       "      <th></th>\n",
       "      <th>0</th>\n",
       "      <th>1</th>\n",
       "      <th>2</th>\n",
       "      <th>3</th>\n",
       "      <th>4</th>\n",
       "      <th>5</th>\n",
       "      <th>6</th>\n",
       "      <th>7</th>\n",
       "      <th>8</th>\n",
       "      <th>9</th>\n",
       "      <th>...</th>\n",
       "      <th>4990</th>\n",
       "      <th>4991</th>\n",
       "      <th>4992</th>\n",
       "      <th>4993</th>\n",
       "      <th>4994</th>\n",
       "      <th>4995</th>\n",
       "      <th>4996</th>\n",
       "      <th>4997</th>\n",
       "      <th>4998</th>\n",
       "      <th>4999</th>\n",
       "    </tr>\n",
       "  </thead>\n",
       "  <tbody>\n",
       "    <tr>\n",
       "      <th>0</th>\n",
       "      <td>0.135742</td>\n",
       "      <td>-0.032073</td>\n",
       "      <td>0.019335</td>\n",
       "      <td>0.001217</td>\n",
       "      <td>-0.007995</td>\n",
       "      <td>0.048259</td>\n",
       "      <td>-0.098430</td>\n",
       "      <td>-0.060081</td>\n",
       "      <td>-0.035424</td>\n",
       "      <td>-0.038086</td>\n",
       "      <td>...</td>\n",
       "      <td>-0.009509</td>\n",
       "      <td>-0.001680</td>\n",
       "      <td>0.001118</td>\n",
       "      <td>-0.002859</td>\n",
       "      <td>0.003619</td>\n",
       "      <td>-0.004152</td>\n",
       "      <td>0.003383</td>\n",
       "      <td>-0.005025</td>\n",
       "      <td>-0.003399</td>\n",
       "      <td>0.008568</td>\n",
       "    </tr>\n",
       "    <tr>\n",
       "      <th>1</th>\n",
       "      <td>0.158398</td>\n",
       "      <td>0.063511</td>\n",
       "      <td>0.018730</td>\n",
       "      <td>0.013672</td>\n",
       "      <td>0.007483</td>\n",
       "      <td>0.020614</td>\n",
       "      <td>-0.081812</td>\n",
       "      <td>0.016150</td>\n",
       "      <td>-0.075008</td>\n",
       "      <td>0.056525</td>\n",
       "      <td>...</td>\n",
       "      <td>0.003776</td>\n",
       "      <td>-0.005327</td>\n",
       "      <td>0.006421</td>\n",
       "      <td>0.007387</td>\n",
       "      <td>-0.001364</td>\n",
       "      <td>-0.006321</td>\n",
       "      <td>-0.003316</td>\n",
       "      <td>0.005213</td>\n",
       "      <td>0.002884</td>\n",
       "      <td>-0.006597</td>\n",
       "    </tr>\n",
       "    <tr>\n",
       "      <th>2</th>\n",
       "      <td>0.074945</td>\n",
       "      <td>-0.012774</td>\n",
       "      <td>-0.001249</td>\n",
       "      <td>0.005577</td>\n",
       "      <td>0.001645</td>\n",
       "      <td>0.010850</td>\n",
       "      <td>-0.041082</td>\n",
       "      <td>-0.019128</td>\n",
       "      <td>-0.012204</td>\n",
       "      <td>0.009546</td>\n",
       "      <td>...</td>\n",
       "      <td>-0.000950</td>\n",
       "      <td>-0.000795</td>\n",
       "      <td>0.001003</td>\n",
       "      <td>0.000142</td>\n",
       "      <td>0.001129</td>\n",
       "      <td>0.000107</td>\n",
       "      <td>-0.000013</td>\n",
       "      <td>0.001235</td>\n",
       "      <td>-0.001574</td>\n",
       "      <td>0.000696</td>\n",
       "    </tr>\n",
       "    <tr>\n",
       "      <th>3</th>\n",
       "      <td>0.184147</td>\n",
       "      <td>-0.053754</td>\n",
       "      <td>0.008912</td>\n",
       "      <td>0.010591</td>\n",
       "      <td>-0.006478</td>\n",
       "      <td>0.064900</td>\n",
       "      <td>-0.105340</td>\n",
       "      <td>-0.053864</td>\n",
       "      <td>-0.024726</td>\n",
       "      <td>-0.042179</td>\n",
       "      <td>...</td>\n",
       "      <td>0.003018</td>\n",
       "      <td>-0.014880</td>\n",
       "      <td>-0.001162</td>\n",
       "      <td>0.004306</td>\n",
       "      <td>0.006478</td>\n",
       "      <td>0.000598</td>\n",
       "      <td>-0.006721</td>\n",
       "      <td>-0.004653</td>\n",
       "      <td>-0.005858</td>\n",
       "      <td>0.003771</td>\n",
       "    </tr>\n",
       "    <tr>\n",
       "      <th>4</th>\n",
       "      <td>0.156999</td>\n",
       "      <td>-0.007810</td>\n",
       "      <td>0.009700</td>\n",
       "      <td>0.006177</td>\n",
       "      <td>-0.006112</td>\n",
       "      <td>0.041005</td>\n",
       "      <td>-0.094385</td>\n",
       "      <td>-0.059323</td>\n",
       "      <td>-0.027823</td>\n",
       "      <td>-0.025735</td>\n",
       "      <td>...</td>\n",
       "      <td>-0.004414</td>\n",
       "      <td>0.005291</td>\n",
       "      <td>0.001771</td>\n",
       "      <td>0.006629</td>\n",
       "      <td>-0.010254</td>\n",
       "      <td>0.000485</td>\n",
       "      <td>0.001398</td>\n",
       "      <td>0.006492</td>\n",
       "      <td>-0.002826</td>\n",
       "      <td>-0.011906</td>\n",
       "    </tr>\n",
       "  </tbody>\n",
       "</table>\n",
       "<p>5 rows × 5000 columns</p>\n",
       "</div>"
      ],
      "text/plain": [
       "       0         1         2         3         4         5         6     \\\n",
       "0  0.135742 -0.032073  0.019335  0.001217 -0.007995  0.048259 -0.098430   \n",
       "1  0.158398  0.063511  0.018730  0.013672  0.007483  0.020614 -0.081812   \n",
       "2  0.074945 -0.012774 -0.001249  0.005577  0.001645  0.010850 -0.041082   \n",
       "3  0.184147 -0.053754  0.008912  0.010591 -0.006478  0.064900 -0.105340   \n",
       "4  0.156999 -0.007810  0.009700  0.006177 -0.006112  0.041005 -0.094385   \n",
       "\n",
       "       7         8         9       ...         4990      4991      4992  \\\n",
       "0 -0.060081 -0.035424 -0.038086    ...    -0.009509 -0.001680  0.001118   \n",
       "1  0.016150 -0.075008  0.056525    ...     0.003776 -0.005327  0.006421   \n",
       "2 -0.019128 -0.012204  0.009546    ...    -0.000950 -0.000795  0.001003   \n",
       "3 -0.053864 -0.024726 -0.042179    ...     0.003018 -0.014880 -0.001162   \n",
       "4 -0.059323 -0.027823 -0.025735    ...    -0.004414  0.005291  0.001771   \n",
       "\n",
       "       4993      4994      4995      4996      4997      4998      4999  \n",
       "0 -0.002859  0.003619 -0.004152  0.003383 -0.005025 -0.003399  0.008568  \n",
       "1  0.007387 -0.001364 -0.006321 -0.003316  0.005213  0.002884 -0.006597  \n",
       "2  0.000142  0.001129  0.000107 -0.000013  0.001235 -0.001574  0.000696  \n",
       "3  0.004306  0.006478  0.000598 -0.006721 -0.004653 -0.005858  0.003771  \n",
       "4  0.006629 -0.010254  0.000485  0.001398  0.006492 -0.002826 -0.011906  \n",
       "\n",
       "[5 rows x 5000 columns]"
      ]
     },
     "execution_count": 80,
     "metadata": {},
     "output_type": "execute_result"
    }
   ],
   "source": [
    "pd.DataFrame(csrL2Normalized_svd.toarray()).head()"
   ]
  },
  {
   "cell_type": "code",
   "execution_count": 89,
   "metadata": {},
   "outputs": [],
   "source": [
    "save_npz('../data/interim/csr_svd_normalized_5000-arpack.npz', csrL2Normalized_svd)"
   ]
  },
  {
   "cell_type": "markdown",
   "metadata": {},
   "source": [
    "# Bisect on SVD"
   ]
  },
  {
   "cell_type": "code",
   "execution_count": 81,
   "metadata": {},
   "outputs": [],
   "source": [
    "denseMatrix = csrL2Normalized_svd.toarray()"
   ]
  },
  {
   "cell_type": "code",
   "execution_count": 82,
   "metadata": {},
   "outputs": [],
   "source": [
    "labels = train_model.bisecting_kmeans(denseMatrix, 2, 10)"
   ]
  },
  {
   "cell_type": "code",
   "execution_count": 83,
   "metadata": {},
   "outputs": [
    {
     "data": {
      "text/plain": [
       "1    4787\n",
       "2    3793\n",
       "Name: 0, dtype: int64"
      ]
     },
     "execution_count": 83,
     "metadata": {},
     "output_type": "execute_result"
    }
   ],
   "source": [
    "pd.DataFrame(labels)[0].value_counts()"
   ]
  },
  {
   "cell_type": "code",
   "execution_count": 84,
   "metadata": {},
   "outputs": [
    {
     "data": {
      "text/plain": [
       "80.2996914517128"
      ]
     },
     "execution_count": 84,
     "metadata": {},
     "output_type": "execute_result"
    }
   ],
   "source": [
    "calinski_harabaz_score(denseMatrix, labels)"
   ]
  },
  {
   "cell_type": "markdown",
   "metadata": {},
   "source": [
    "# Submission"
   ]
  },
  {
   "cell_type": "code",
   "execution_count": 104,
   "metadata": {},
   "outputs": [],
   "source": [
    "denseMatrix = csrL2Normalized_svd.toarray()"
   ]
  },
  {
   "cell_type": "code",
   "execution_count": 105,
   "metadata": {},
   "outputs": [],
   "source": [
    "labels = train_model.bisecting_kmeans(denseMatrix, 7, 10)"
   ]
  },
  {
   "cell_type": "code",
   "execution_count": 106,
   "metadata": {},
   "outputs": [
    {
     "data": {
      "text/plain": [
       "5    2058\n",
       "1    1657\n",
       "6    1516\n",
       "4    1072\n",
       "7     928\n",
       "3     918\n",
       "2     431\n",
       "Name: 0, dtype: int64"
      ]
     },
     "execution_count": 106,
     "metadata": {},
     "output_type": "execute_result"
    }
   ],
   "source": [
    "pd.DataFrame(labels)[0].value_counts()"
   ]
  },
  {
   "cell_type": "code",
   "execution_count": 107,
   "metadata": {},
   "outputs": [
    {
     "data": {
      "text/plain": [
       "44.18652047965448"
      ]
     },
     "execution_count": 107,
     "metadata": {},
     "output_type": "execute_result"
    }
   ],
   "source": [
    "calinski_harabaz_score(csrL2Normalized.toarray(), labels)"
   ]
  },
  {
   "cell_type": "code",
   "execution_count": 88,
   "metadata": {},
   "outputs": [],
   "source": [
    "read_transform.write_predictions(labels, '../models/predictions/1.5-am-lsa-arpack.dat')"
   ]
  },
  {
   "cell_type": "code",
   "execution_count": 69,
   "metadata": {},
   "outputs": [],
   "source": [
    "denseMatrix = csrL2Normalized.toarray()"
   ]
  },
  {
   "cell_type": "code",
   "execution_count": 70,
   "metadata": {},
   "outputs": [],
   "source": [
    "labels = train_model.bisecting_kmeans(denseMatrix, 7, 10)"
   ]
  },
  {
   "cell_type": "code",
   "execution_count": 71,
   "metadata": {},
   "outputs": [
    {
     "data": {
      "text/plain": [
       "5    2035\n",
       "3    1963\n",
       "1    1427\n",
       "6    1075\n",
       "7    1039\n",
       "2     675\n",
       "4     366\n",
       "Name: 0, dtype: int64"
      ]
     },
     "execution_count": 71,
     "metadata": {},
     "output_type": "execute_result"
    }
   ],
   "source": [
    "pd.DataFrame(labels)[0].value_counts()"
   ]
  },
  {
   "cell_type": "code",
   "execution_count": 72,
   "metadata": {},
   "outputs": [
    {
     "data": {
      "text/plain": [
       "46.035432919341474"
      ]
     },
     "execution_count": 72,
     "metadata": {},
     "output_type": "execute_result"
    }
   ],
   "source": [
    "calinski_harabaz_score(csrL2Normalized.toarray(), labels)"
   ]
  },
  {
   "cell_type": "markdown",
   "metadata": {},
   "source": [
    "# Non Negative Matrix Factorization"
   ]
  },
  {
   "cell_type": "code",
   "execution_count": 3,
   "metadata": {},
   "outputs": [],
   "source": [
    "from sklearn.decomposition import NMF"
   ]
  },
  {
   "cell_type": "code",
   "execution_count": 28,
   "metadata": {},
   "outputs": [],
   "source": [
    "nmf = NMF(n_components=550, random_state=10, alpha=.1, l1_ratio=.5, verbose=True)"
   ]
  },
  {
   "cell_type": "code",
   "execution_count": 29,
   "metadata": {},
   "outputs": [
    {
     "name": "stdout",
     "output_type": "stream",
     "text": [
      "violation: 1.0\n",
      "violation: 0.007381502004166063\n",
      "violation: 0.006559960891150529\n",
      "violation: 0.003928112329562171\n",
      "violation: 0.0025834742644676506\n",
      "violation: 0.0018327749861842082\n",
      "violation: 0.0013509157618990767\n",
      "violation: 0.0009910607203590502\n",
      "violation: 0.0007753259203580676\n",
      "violation: 0.0006189964680479151\n",
      "violation: 0.0004975888464482741\n",
      "violation: 0.000409449091168145\n",
      "violation: 0.00034712471504103856\n",
      "violation: 0.00030310845303377766\n",
      "violation: 0.00026775325872107735\n",
      "violation: 0.0002418054809956908\n",
      "violation: 0.0002250083152105965\n",
      "violation: 0.000214720340370855\n",
      "violation: 0.00020683478220220988\n",
      "violation: 0.00019641318267255475\n",
      "violation: 0.0001820108464820063\n",
      "violation: 0.0001697237926184946\n",
      "violation: 0.0001603272899390658\n",
      "violation: 0.00015421006783794964\n",
      "violation: 0.00014886539511119634\n",
      "violation: 0.00014370965060167047\n",
      "violation: 0.0001383410885760771\n",
      "violation: 0.00013342096964458818\n",
      "violation: 0.00012913063888743645\n",
      "violation: 0.0001255220079701261\n",
      "violation: 0.00012239948461763452\n",
      "violation: 0.00012005610002216494\n",
      "violation: 0.00011798412795233577\n",
      "violation: 0.00011536616062857128\n",
      "violation: 0.00011105816385450739\n",
      "violation: 0.00010477508742653625\n",
      "violation: 9.731859044599501e-05\n",
      "Converged at iteration 37\n"
     ]
    }
   ],
   "source": [
    "csrL2Normalized_nmf = nmf.fit_transform(csrL2Normalized)"
   ]
  },
  {
   "cell_type": "code",
   "execution_count": 30,
   "metadata": {},
   "outputs": [
    {
     "data": {
      "text/html": [
       "<div>\n",
       "<style scoped>\n",
       "    .dataframe tbody tr th:only-of-type {\n",
       "        vertical-align: middle;\n",
       "    }\n",
       "\n",
       "    .dataframe tbody tr th {\n",
       "        vertical-align: top;\n",
       "    }\n",
       "\n",
       "    .dataframe thead th {\n",
       "        text-align: right;\n",
       "    }\n",
       "</style>\n",
       "<table border=\"1\" class=\"dataframe\">\n",
       "  <thead>\n",
       "    <tr style=\"text-align: right;\">\n",
       "      <th></th>\n",
       "      <th>0</th>\n",
       "      <th>1</th>\n",
       "      <th>2</th>\n",
       "      <th>3</th>\n",
       "      <th>4</th>\n",
       "      <th>5</th>\n",
       "      <th>6</th>\n",
       "      <th>7</th>\n",
       "      <th>8</th>\n",
       "      <th>9</th>\n",
       "      <th>...</th>\n",
       "      <th>540</th>\n",
       "      <th>541</th>\n",
       "      <th>542</th>\n",
       "      <th>543</th>\n",
       "      <th>544</th>\n",
       "      <th>545</th>\n",
       "      <th>546</th>\n",
       "      <th>547</th>\n",
       "      <th>548</th>\n",
       "      <th>549</th>\n",
       "    </tr>\n",
       "  </thead>\n",
       "  <tbody>\n",
       "    <tr>\n",
       "      <th>0</th>\n",
       "      <td>0.0</td>\n",
       "      <td>0.0</td>\n",
       "      <td>0.0</td>\n",
       "      <td>0.0</td>\n",
       "      <td>0.0</td>\n",
       "      <td>0.0</td>\n",
       "      <td>0.0</td>\n",
       "      <td>0.000000</td>\n",
       "      <td>0.0</td>\n",
       "      <td>0.0</td>\n",
       "      <td>...</td>\n",
       "      <td>0.000000</td>\n",
       "      <td>0.0</td>\n",
       "      <td>0.000000</td>\n",
       "      <td>0.000000</td>\n",
       "      <td>0.0</td>\n",
       "      <td>0.0</td>\n",
       "      <td>0.0</td>\n",
       "      <td>0.021037</td>\n",
       "      <td>0.0</td>\n",
       "      <td>0.0</td>\n",
       "    </tr>\n",
       "    <tr>\n",
       "      <th>1</th>\n",
       "      <td>0.0</td>\n",
       "      <td>0.0</td>\n",
       "      <td>0.0</td>\n",
       "      <td>0.0</td>\n",
       "      <td>0.0</td>\n",
       "      <td>0.0</td>\n",
       "      <td>0.0</td>\n",
       "      <td>0.004375</td>\n",
       "      <td>0.0</td>\n",
       "      <td>0.0</td>\n",
       "      <td>...</td>\n",
       "      <td>0.006787</td>\n",
       "      <td>0.0</td>\n",
       "      <td>0.000647</td>\n",
       "      <td>0.001012</td>\n",
       "      <td>0.0</td>\n",
       "      <td>0.0</td>\n",
       "      <td>0.0</td>\n",
       "      <td>0.026102</td>\n",
       "      <td>0.0</td>\n",
       "      <td>0.0</td>\n",
       "    </tr>\n",
       "    <tr>\n",
       "      <th>2</th>\n",
       "      <td>0.0</td>\n",
       "      <td>0.0</td>\n",
       "      <td>0.0</td>\n",
       "      <td>0.0</td>\n",
       "      <td>0.0</td>\n",
       "      <td>0.0</td>\n",
       "      <td>0.0</td>\n",
       "      <td>0.000000</td>\n",
       "      <td>0.0</td>\n",
       "      <td>0.0</td>\n",
       "      <td>...</td>\n",
       "      <td>0.000000</td>\n",
       "      <td>0.0</td>\n",
       "      <td>0.000000</td>\n",
       "      <td>0.000000</td>\n",
       "      <td>0.0</td>\n",
       "      <td>0.0</td>\n",
       "      <td>0.0</td>\n",
       "      <td>0.016328</td>\n",
       "      <td>0.0</td>\n",
       "      <td>0.0</td>\n",
       "    </tr>\n",
       "    <tr>\n",
       "      <th>3</th>\n",
       "      <td>0.0</td>\n",
       "      <td>0.0</td>\n",
       "      <td>0.0</td>\n",
       "      <td>0.0</td>\n",
       "      <td>0.0</td>\n",
       "      <td>0.0</td>\n",
       "      <td>0.0</td>\n",
       "      <td>0.000000</td>\n",
       "      <td>0.0</td>\n",
       "      <td>0.0</td>\n",
       "      <td>...</td>\n",
       "      <td>0.000000</td>\n",
       "      <td>0.0</td>\n",
       "      <td>0.000000</td>\n",
       "      <td>0.000000</td>\n",
       "      <td>0.0</td>\n",
       "      <td>0.0</td>\n",
       "      <td>0.0</td>\n",
       "      <td>0.011974</td>\n",
       "      <td>0.0</td>\n",
       "      <td>0.0</td>\n",
       "    </tr>\n",
       "    <tr>\n",
       "      <th>4</th>\n",
       "      <td>0.0</td>\n",
       "      <td>0.0</td>\n",
       "      <td>0.0</td>\n",
       "      <td>0.0</td>\n",
       "      <td>0.0</td>\n",
       "      <td>0.0</td>\n",
       "      <td>0.0</td>\n",
       "      <td>0.000000</td>\n",
       "      <td>0.0</td>\n",
       "      <td>0.0</td>\n",
       "      <td>...</td>\n",
       "      <td>0.000000</td>\n",
       "      <td>0.0</td>\n",
       "      <td>0.000000</td>\n",
       "      <td>0.000000</td>\n",
       "      <td>0.0</td>\n",
       "      <td>0.0</td>\n",
       "      <td>0.0</td>\n",
       "      <td>0.033765</td>\n",
       "      <td>0.0</td>\n",
       "      <td>0.0</td>\n",
       "    </tr>\n",
       "  </tbody>\n",
       "</table>\n",
       "<p>5 rows × 550 columns</p>\n",
       "</div>"
      ],
      "text/plain": [
       "   0    1    2    3    4    5    6         7    8    9   ...        540  541  \\\n",
       "0  0.0  0.0  0.0  0.0  0.0  0.0  0.0  0.000000  0.0  0.0 ...   0.000000  0.0   \n",
       "1  0.0  0.0  0.0  0.0  0.0  0.0  0.0  0.004375  0.0  0.0 ...   0.006787  0.0   \n",
       "2  0.0  0.0  0.0  0.0  0.0  0.0  0.0  0.000000  0.0  0.0 ...   0.000000  0.0   \n",
       "3  0.0  0.0  0.0  0.0  0.0  0.0  0.0  0.000000  0.0  0.0 ...   0.000000  0.0   \n",
       "4  0.0  0.0  0.0  0.0  0.0  0.0  0.0  0.000000  0.0  0.0 ...   0.000000  0.0   \n",
       "\n",
       "        542       543  544  545  546       547  548  549  \n",
       "0  0.000000  0.000000  0.0  0.0  0.0  0.021037  0.0  0.0  \n",
       "1  0.000647  0.001012  0.0  0.0  0.0  0.026102  0.0  0.0  \n",
       "2  0.000000  0.000000  0.0  0.0  0.0  0.016328  0.0  0.0  \n",
       "3  0.000000  0.000000  0.0  0.0  0.0  0.011974  0.0  0.0  \n",
       "4  0.000000  0.000000  0.0  0.0  0.0  0.033765  0.0  0.0  \n",
       "\n",
       "[5 rows x 550 columns]"
      ]
     },
     "execution_count": 30,
     "metadata": {},
     "output_type": "execute_result"
    }
   ],
   "source": [
    "pd.DataFrame(csrL2Normalized_nmf).head()"
   ]
  },
  {
   "cell_type": "code",
   "execution_count": 31,
   "metadata": {},
   "outputs": [],
   "source": [
    "csrL2Normalized_nmf = csr_matrix(csrL2Normalized_nmf)"
   ]
  },
  {
   "cell_type": "code",
   "execution_count": 41,
   "metadata": {},
   "outputs": [
    {
     "data": {
      "text/plain": [
       "<8580x550 sparse matrix of type '<class 'numpy.float64'>'\n",
       "\twith 59146 stored elements in Compressed Sparse Row format>"
      ]
     },
     "execution_count": 41,
     "metadata": {},
     "output_type": "execute_result"
    }
   ],
   "source": [
    "csrL2Normalized_nmf"
   ]
  },
  {
   "cell_type": "code",
   "execution_count": 33,
   "metadata": {},
   "outputs": [],
   "source": [
    "csrL2Normalized_nmf = read_transform.csr_l2normalize(csrL2Normalized_nmf, copy=True)"
   ]
  },
  {
   "cell_type": "code",
   "execution_count": 34,
   "metadata": {},
   "outputs": [
    {
     "data": {
      "text/html": [
       "<div>\n",
       "<style scoped>\n",
       "    .dataframe tbody tr th:only-of-type {\n",
       "        vertical-align: middle;\n",
       "    }\n",
       "\n",
       "    .dataframe tbody tr th {\n",
       "        vertical-align: top;\n",
       "    }\n",
       "\n",
       "    .dataframe thead th {\n",
       "        text-align: right;\n",
       "    }\n",
       "</style>\n",
       "<table border=\"1\" class=\"dataframe\">\n",
       "  <thead>\n",
       "    <tr style=\"text-align: right;\">\n",
       "      <th></th>\n",
       "      <th>0</th>\n",
       "      <th>1</th>\n",
       "      <th>2</th>\n",
       "      <th>3</th>\n",
       "      <th>4</th>\n",
       "      <th>5</th>\n",
       "      <th>6</th>\n",
       "      <th>7</th>\n",
       "      <th>8</th>\n",
       "      <th>9</th>\n",
       "      <th>...</th>\n",
       "      <th>540</th>\n",
       "      <th>541</th>\n",
       "      <th>542</th>\n",
       "      <th>543</th>\n",
       "      <th>544</th>\n",
       "      <th>545</th>\n",
       "      <th>546</th>\n",
       "      <th>547</th>\n",
       "      <th>548</th>\n",
       "      <th>549</th>\n",
       "    </tr>\n",
       "  </thead>\n",
       "  <tbody>\n",
       "    <tr>\n",
       "      <th>0</th>\n",
       "      <td>0.0</td>\n",
       "      <td>0.0</td>\n",
       "      <td>0.0</td>\n",
       "      <td>0.0</td>\n",
       "      <td>0.0</td>\n",
       "      <td>0.0</td>\n",
       "      <td>0.0</td>\n",
       "      <td>0.000000</td>\n",
       "      <td>0.0</td>\n",
       "      <td>0.0</td>\n",
       "      <td>...</td>\n",
       "      <td>0.000000</td>\n",
       "      <td>0.0</td>\n",
       "      <td>0.000000</td>\n",
       "      <td>0.000000</td>\n",
       "      <td>0.0</td>\n",
       "      <td>0.0</td>\n",
       "      <td>0.0</td>\n",
       "      <td>0.275199</td>\n",
       "      <td>0.0</td>\n",
       "      <td>0.0</td>\n",
       "    </tr>\n",
       "    <tr>\n",
       "      <th>1</th>\n",
       "      <td>0.0</td>\n",
       "      <td>0.0</td>\n",
       "      <td>0.0</td>\n",
       "      <td>0.0</td>\n",
       "      <td>0.0</td>\n",
       "      <td>0.0</td>\n",
       "      <td>0.0</td>\n",
       "      <td>0.097274</td>\n",
       "      <td>0.0</td>\n",
       "      <td>0.0</td>\n",
       "      <td>...</td>\n",
       "      <td>0.150926</td>\n",
       "      <td>0.0</td>\n",
       "      <td>0.014391</td>\n",
       "      <td>0.022506</td>\n",
       "      <td>0.0</td>\n",
       "      <td>0.0</td>\n",
       "      <td>0.0</td>\n",
       "      <td>0.580426</td>\n",
       "      <td>0.0</td>\n",
       "      <td>0.0</td>\n",
       "    </tr>\n",
       "    <tr>\n",
       "      <th>2</th>\n",
       "      <td>0.0</td>\n",
       "      <td>0.0</td>\n",
       "      <td>0.0</td>\n",
       "      <td>0.0</td>\n",
       "      <td>0.0</td>\n",
       "      <td>0.0</td>\n",
       "      <td>0.0</td>\n",
       "      <td>0.000000</td>\n",
       "      <td>0.0</td>\n",
       "      <td>0.0</td>\n",
       "      <td>...</td>\n",
       "      <td>0.000000</td>\n",
       "      <td>0.0</td>\n",
       "      <td>0.000000</td>\n",
       "      <td>0.000000</td>\n",
       "      <td>0.0</td>\n",
       "      <td>0.0</td>\n",
       "      <td>0.0</td>\n",
       "      <td>0.827395</td>\n",
       "      <td>0.0</td>\n",
       "      <td>0.0</td>\n",
       "    </tr>\n",
       "    <tr>\n",
       "      <th>3</th>\n",
       "      <td>0.0</td>\n",
       "      <td>0.0</td>\n",
       "      <td>0.0</td>\n",
       "      <td>0.0</td>\n",
       "      <td>0.0</td>\n",
       "      <td>0.0</td>\n",
       "      <td>0.0</td>\n",
       "      <td>0.000000</td>\n",
       "      <td>0.0</td>\n",
       "      <td>0.0</td>\n",
       "      <td>...</td>\n",
       "      <td>0.000000</td>\n",
       "      <td>0.0</td>\n",
       "      <td>0.000000</td>\n",
       "      <td>0.000000</td>\n",
       "      <td>0.0</td>\n",
       "      <td>0.0</td>\n",
       "      <td>0.0</td>\n",
       "      <td>0.105748</td>\n",
       "      <td>0.0</td>\n",
       "      <td>0.0</td>\n",
       "    </tr>\n",
       "    <tr>\n",
       "      <th>4</th>\n",
       "      <td>0.0</td>\n",
       "      <td>0.0</td>\n",
       "      <td>0.0</td>\n",
       "      <td>0.0</td>\n",
       "      <td>0.0</td>\n",
       "      <td>0.0</td>\n",
       "      <td>0.0</td>\n",
       "      <td>0.000000</td>\n",
       "      <td>0.0</td>\n",
       "      <td>0.0</td>\n",
       "      <td>...</td>\n",
       "      <td>0.000000</td>\n",
       "      <td>0.0</td>\n",
       "      <td>0.000000</td>\n",
       "      <td>0.000000</td>\n",
       "      <td>0.0</td>\n",
       "      <td>0.0</td>\n",
       "      <td>0.0</td>\n",
       "      <td>0.403336</td>\n",
       "      <td>0.0</td>\n",
       "      <td>0.0</td>\n",
       "    </tr>\n",
       "  </tbody>\n",
       "</table>\n",
       "<p>5 rows × 550 columns</p>\n",
       "</div>"
      ],
      "text/plain": [
       "   0    1    2    3    4    5    6         7    8    9   ...        540  541  \\\n",
       "0  0.0  0.0  0.0  0.0  0.0  0.0  0.0  0.000000  0.0  0.0 ...   0.000000  0.0   \n",
       "1  0.0  0.0  0.0  0.0  0.0  0.0  0.0  0.097274  0.0  0.0 ...   0.150926  0.0   \n",
       "2  0.0  0.0  0.0  0.0  0.0  0.0  0.0  0.000000  0.0  0.0 ...   0.000000  0.0   \n",
       "3  0.0  0.0  0.0  0.0  0.0  0.0  0.0  0.000000  0.0  0.0 ...   0.000000  0.0   \n",
       "4  0.0  0.0  0.0  0.0  0.0  0.0  0.0  0.000000  0.0  0.0 ...   0.000000  0.0   \n",
       "\n",
       "        542       543  544  545  546       547  548  549  \n",
       "0  0.000000  0.000000  0.0  0.0  0.0  0.275199  0.0  0.0  \n",
       "1  0.014391  0.022506  0.0  0.0  0.0  0.580426  0.0  0.0  \n",
       "2  0.000000  0.000000  0.0  0.0  0.0  0.827395  0.0  0.0  \n",
       "3  0.000000  0.000000  0.0  0.0  0.0  0.105748  0.0  0.0  \n",
       "4  0.000000  0.000000  0.0  0.0  0.0  0.403336  0.0  0.0  \n",
       "\n",
       "[5 rows x 550 columns]"
      ]
     },
     "execution_count": 34,
     "metadata": {},
     "output_type": "execute_result"
    }
   ],
   "source": [
    "pd.DataFrame(csrL2Normalized_nmf.toarray()).head()"
   ]
  },
  {
   "cell_type": "code",
   "execution_count": 35,
   "metadata": {},
   "outputs": [],
   "source": [
    "save_npz('../data/interim/csr_nmf_normalized_550.npz', csrL2Normalized_nmf)"
   ]
  },
  {
   "cell_type": "markdown",
   "metadata": {},
   "source": [
    "# Bisect on NMF 500"
   ]
  },
  {
   "cell_type": "code",
   "execution_count": 65,
   "metadata": {},
   "outputs": [],
   "source": [
    "csrL2Normalized_nmf = load_npz('../data/interim/csr_nmf_normalized_500.npz')"
   ]
  },
  {
   "cell_type": "code",
   "execution_count": 66,
   "metadata": {},
   "outputs": [
    {
     "data": {
      "text/plain": [
       "<8580x500 sparse matrix of type '<class 'numpy.float64'>'\n",
       "\twith 61668 stored elements in Compressed Sparse Row format>"
      ]
     },
     "execution_count": 66,
     "metadata": {},
     "output_type": "execute_result"
    }
   ],
   "source": [
    "csrL2Normalized_nmf"
   ]
  },
  {
   "cell_type": "code",
   "execution_count": 67,
   "metadata": {},
   "outputs": [],
   "source": [
    "denseMatrix = csrL2Normalized_nmf.toarray()"
   ]
  },
  {
   "cell_type": "code",
   "execution_count": 68,
   "metadata": {},
   "outputs": [],
   "source": [
    "labels = train_model.bisecting_kmeans(denseMatrix, 7, 10)"
   ]
  },
  {
   "cell_type": "code",
   "execution_count": 69,
   "metadata": {},
   "outputs": [
    {
     "data": {
      "text/plain": [
       "2    1799\n",
       "7    1668\n",
       "5    1619\n",
       "4    1259\n",
       "3    1151\n",
       "1     755\n",
       "6     329\n",
       "Name: 0, dtype: int64"
      ]
     },
     "execution_count": 69,
     "metadata": {},
     "output_type": "execute_result"
    }
   ],
   "source": [
    "pd.DataFrame(labels)[0].value_counts()"
   ]
  },
  {
   "cell_type": "code",
   "execution_count": 70,
   "metadata": {},
   "outputs": [
    {
     "data": {
      "text/plain": [
       "48.47681059943502"
      ]
     },
     "execution_count": 70,
     "metadata": {},
     "output_type": "execute_result"
    }
   ],
   "source": [
    "calinski_harabaz_score(csrL2Normalized.toarray(), labels)"
   ]
  },
  {
   "cell_type": "code",
   "execution_count": 71,
   "metadata": {},
   "outputs": [],
   "source": [
    "read_transform.write_predictions(labels, '../models/predictions/1.5-am-lsa-nmf-500-euclid.dat')"
   ]
  },
  {
   "cell_type": "markdown",
   "metadata": {},
   "source": [
    "# Bisect on NMF 550"
   ]
  },
  {
   "cell_type": "code",
   "execution_count": 49,
   "metadata": {},
   "outputs": [],
   "source": [
    "csrL2Normalized_nmf = load_npz('../data/interim/csr_nmf_normalized_550.npz')"
   ]
  },
  {
   "cell_type": "code",
   "execution_count": 50,
   "metadata": {},
   "outputs": [
    {
     "data": {
      "text/plain": [
       "<8580x550 sparse matrix of type '<class 'numpy.float64'>'\n",
       "\twith 59146 stored elements in Compressed Sparse Row format>"
      ]
     },
     "execution_count": 50,
     "metadata": {},
     "output_type": "execute_result"
    }
   ],
   "source": [
    "csrL2Normalized_nmf"
   ]
  },
  {
   "cell_type": "code",
   "execution_count": 51,
   "metadata": {},
   "outputs": [],
   "source": [
    "denseMatrix = csrL2Normalized_nmf.toarray()"
   ]
  },
  {
   "cell_type": "code",
   "execution_count": 52,
   "metadata": {},
   "outputs": [],
   "source": [
    "labels = train_model.bisecting_kmeans(denseMatrix, 7, 10)"
   ]
  },
  {
   "cell_type": "code",
   "execution_count": 53,
   "metadata": {},
   "outputs": [
    {
     "data": {
      "text/plain": [
       "7    1900\n",
       "1    1882\n",
       "3    1854\n",
       "4    1186\n",
       "2     852\n",
       "6     455\n",
       "5     451\n",
       "Name: 0, dtype: int64"
      ]
     },
     "execution_count": 53,
     "metadata": {},
     "output_type": "execute_result"
    }
   ],
   "source": [
    "pd.DataFrame(labels)[0].value_counts()"
   ]
  },
  {
   "cell_type": "code",
   "execution_count": 54,
   "metadata": {},
   "outputs": [
    {
     "data": {
      "text/plain": [
       "50.473313630436046"
      ]
     },
     "execution_count": 54,
     "metadata": {},
     "output_type": "execute_result"
    }
   ],
   "source": [
    "calinski_harabaz_score(csrL2Normalized.toarray(), labels)"
   ]
  },
  {
   "cell_type": "code",
   "execution_count": 40,
   "metadata": {},
   "outputs": [],
   "source": [
    "read_transform.write_predictions(labels, '../models/predictions/1.5-am-lsa-nmf-550.dat')"
   ]
  },
  {
   "cell_type": "markdown",
   "metadata": {},
   "source": [
    "# Bisect on NMF 1000"
   ]
  },
  {
   "cell_type": "code",
   "execution_count": 42,
   "metadata": {},
   "outputs": [],
   "source": [
    "csrL2Normalized_nmf = load_npz('../data/interim/csr_nmf_normalized_1000.npz')"
   ]
  },
  {
   "cell_type": "code",
   "execution_count": 43,
   "metadata": {},
   "outputs": [
    {
     "data": {
      "text/plain": [
       "<8580x1000 sparse matrix of type '<class 'numpy.float64'>'\n",
       "\twith 49377 stored elements in Compressed Sparse Row format>"
      ]
     },
     "execution_count": 43,
     "metadata": {},
     "output_type": "execute_result"
    }
   ],
   "source": [
    "csrL2Normalized_nmf"
   ]
  },
  {
   "cell_type": "code",
   "execution_count": 44,
   "metadata": {},
   "outputs": [],
   "source": [
    "denseMatrix = csrL2Normalized_nmf.toarray()"
   ]
  },
  {
   "cell_type": "code",
   "execution_count": 45,
   "metadata": {},
   "outputs": [],
   "source": [
    "labels = train_model.bisecting_kmeans(denseMatrix, 7, 10)"
   ]
  },
  {
   "cell_type": "code",
   "execution_count": 46,
   "metadata": {},
   "outputs": [
    {
     "data": {
      "text/plain": [
       "7    2186\n",
       "1    2064\n",
       "5    1470\n",
       "4    1352\n",
       "2     564\n",
       "6     494\n",
       "3     450\n",
       "Name: 0, dtype: int64"
      ]
     },
     "execution_count": 46,
     "metadata": {},
     "output_type": "execute_result"
    }
   ],
   "source": [
    "pd.DataFrame(labels)[0].value_counts()"
   ]
  },
  {
   "cell_type": "code",
   "execution_count": 47,
   "metadata": {},
   "outputs": [
    {
     "data": {
      "text/plain": [
       "42.05549637019858"
      ]
     },
     "execution_count": 47,
     "metadata": {},
     "output_type": "execute_result"
    }
   ],
   "source": [
    "calinski_harabaz_score(csrL2Normalized.toarray(), labels)"
   ]
  },
  {
   "cell_type": "code",
   "execution_count": 48,
   "metadata": {},
   "outputs": [],
   "source": [
    "read_transform.write_predictions(labels, '../models/predictions/1.5-am-lsa-nmf-1000.dat')"
   ]
  },
  {
   "cell_type": "code",
   "execution_count": null,
   "metadata": {},
   "outputs": [],
   "source": []
  }
 ],
 "metadata": {
  "kernelspec": {
   "display_name": "Python 3",
   "language": "python",
   "name": "python3"
  },
  "language_info": {
   "codemirror_mode": {
    "name": "ipython",
    "version": 3
   },
   "file_extension": ".py",
   "mimetype": "text/x-python",
   "name": "python",
   "nbconvert_exporter": "python",
   "pygments_lexer": "ipython3",
   "version": "3.6.5"
  }
 },
 "nbformat": 4,
 "nbformat_minor": 2
}
